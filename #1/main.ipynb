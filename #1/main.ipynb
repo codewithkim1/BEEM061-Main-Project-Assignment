{
 "cells": [
  {
   "cell_type": "code",
   "execution_count": 1,
   "metadata": {},
   "outputs": [
    {
     "name": "stdout",
     "output_type": "stream",
     "text": [
      "Height: 825811\n",
      "Timestamp (UTC): None\n",
      "Difficulty: 126990817173.1452\n",
      "Merkle Root: d96d97269bb80db4954d8daa57ccf06113fd7c27d341f994de0dac105c87e453\n",
      "Transactions: 335\n",
      "Version: 615882752\n",
      "Chainwork: 0000000000000000000000000000000000000000014fc0f4add50c7695d88e80\n",
      "Total Fee: 0.0005161200000003419\n",
      "Nonce: 2884634141\n",
      "Miner: taal.com\n",
      "Average Fee: None\n",
      "Bits: 1808a877\n",
      "Size: 1316432 MB\n",
      "Confirmations: 14\n"
     ]
    }
   ],
   "source": [
    "# Import required libraries\n",
    "import requests\n",
    "\n",
    "# Replace 'block_height' with the actual block height you want to explore\n",
    "block_height = 825811\n",
    "\n",
    "# Fetch data from the whatsonchain API\n",
    "api_url = f'https://api.whatsonchain.com/v1/bsv/main/block/height/{block_height}'\n",
    "response = requests.get(api_url)\n",
    "\n",
    "# Check if the request was successful\n",
    "if response.status_code == 200:\n",
    "    # Parse the JSON response\n",
    "    block_data = response.json()\n",
    "\n",
    "    # Extract required information\n",
    "    height = block_data.get('height')\n",
    "    timestamp = block_data.get('timestamp')\n",
    "    difficulty = block_data.get('difficulty')\n",
    "    merkle_root = block_data.get('merkleroot')\n",
    "    transactions = block_data.get('txcount')\n",
    "    version = block_data.get('version')\n",
    "    chainwork = block_data.get('chainwork')\n",
    "    total_fee = block_data.get('totalFees')\n",
    "    nonce = block_data.get('nonce')\n",
    "    miner = block_data.get('miner')\n",
    "    average_fee = block_data.get('fee')\n",
    "    bits = block_data.get('bits')\n",
    "    size = block_data.get('size')\n",
    "    confirmations = block_data.get('confirmations')\n",
    "\n",
    "    # Print the extracted information\n",
    "    print(f\"Height: {height}\")\n",
    "    print(f\"Timestamp (UTC): {timestamp}\")\n",
    "    print(f\"Difficulty: {difficulty}\")\n",
    "    print(f\"Merkle Root: {merkle_root}\")\n",
    "    print(f\"Transactions: {transactions}\")\n",
    "    print(f\"Version: {version}\")\n",
    "    print(f\"Chainwork: {chainwork}\")\n",
    "    print(f\"Total Fee: {total_fee}\")\n",
    "    print(f\"Nonce: {nonce}\")\n",
    "    print(f\"Miner: {miner}\")\n",
    "    print(f\"Average Fee: {average_fee}\")\n",
    "    print(f\"Bits: {bits}\")\n",
    "    print(f\"Size: {size} MB\")\n",
    "    print(f\"Confirmations: {confirmations}\")\n",
    "\n",
    "else:\n",
    "    print(f\"Error: Unable to fetch data. Status code: {response.status_code}\")"
   ]
  }
 ],
 "metadata": {
  "kernelspec": {
   "display_name": "Python 3",
   "language": "python",
   "name": "python3"
  },
  "language_info": {
   "codemirror_mode": {
    "name": "ipython",
    "version": 3
   },
   "file_extension": ".py",
   "mimetype": "text/x-python",
   "name": "python",
   "nbconvert_exporter": "python",
   "pygments_lexer": "ipython3",
   "version": "3.10.12"
  }
 },
 "nbformat": 4,
 "nbformat_minor": 2
}
